{
 "cells": [
  {
   "cell_type": "markdown",
   "id": "bf0194b3",
   "metadata": {},
   "source": [
    "# Spending Prediction using Linear Regression and Decision Tree"
   ]
  },
  {
   "cell_type": "code",
   "execution_count": null,
   "id": "c833e423",
   "metadata": {},
   "outputs": [],
   "source": [
    "# Importing libraries \n",
    "import numpy as np\n",
    "import pandas as pd \n",
    "from sklearn.tree import DecisionTreeRegressor\n",
    "from sklearn.linear_model import LinearRegression\n",
    "from sklearn.model_selection import train_test_split\n",
    "from sklearn.metrics import mean_squared_error\n",
    "from sklearn.metrics import r2_score\n",
    "from math import sqrt\n",
    "import matplotlib.pyplot as plt\n",
    "import seaborn as sns\n",
    "from sklearn.compose import ColumnTransformer\n",
    "from sklearn.pipeline import Pipeline\n",
    "from sklearn.impute import SimpleImputer\n",
    "from sklearn.preprocessing import StandardScaler, OneHotEncoder, LabelEncoder\n",
    "from sklearn.exceptions import ConvergenceWarning,DataConversionWarning\n",
    "import warnings\n",
    "warnings.filterwarnings(\"ignore\", category=ConvergenceWarning)\n",
    "warnings.filterwarnings(\"ignore\", category=RuntimeWarning)\n",
    "warnings.filterwarnings(\"ignore\", category=FutureWarning)\n",
    "warnings.filterwarnings(\"ignore\", category=DataConversionWarning)"
   ]
  },
  {
   "cell_type": "code",
   "execution_count": null,
   "id": "fcae61a0",
   "metadata": {},
   "outputs": [],
   "source": [
    "# Loading the dataframe into jupyter notebook\n",
    "df = pd.read_csv('Capital One.csv')"
   ]
  },
  {
   "cell_type": "code",
   "execution_count": null,
   "id": "688da675",
   "metadata": {},
   "outputs": [],
   "source": [
    "df.head()"
   ]
  },
  {
   "cell_type": "code",
   "execution_count": null,
   "id": "93bebeeb",
   "metadata": {},
   "outputs": [],
   "source": [
    "# Checking number of rows and columns\n",
    "df.shape"
   ]
  },
  {
   "cell_type": "markdown",
   "id": "8b28b7b7",
   "metadata": {},
   "source": [
    "# EDA of the  Variables of the Dataset "
   ]
  },
  {
   "cell_type": "code",
   "execution_count": null,
   "id": "9a6e1dfd",
   "metadata": {},
   "outputs": [],
   "source": [
    "# Get the label column\n",
    "label = df['SPEND_M3_TOTAL']\n",
    "\n",
    "\n",
    "# Create a figure for 2 subplots (2 rows, 1 column)\n",
    "fig, ax = plt.subplots(2, 1, figsize = (9,12))\n",
    "\n",
    "# Plot the histogram   \n",
    "ax[0].hist(label, bins=100)\n",
    "ax[0].set_ylabel('Frequency')\n",
    "\n",
    "# Add lines for the mean, median, and mode\n",
    "ax[0].axvline(label.mean(), color='magenta', linestyle='dashed', linewidth=2)\n",
    "ax[0].axvline(label.median(), color='cyan', linestyle='dashed', linewidth=2)\n",
    "\n",
    "# Plot the boxplot   \n",
    "ax[1].boxplot(label, vert=False)\n",
    "ax[1].set_xlabel('Total Spend')\n",
    "\n",
    "# Add a title to the Figure\n",
    "fig.suptitle('Spend Distribution')\n",
    "\n",
    "# Show the figure\n",
    "fig.show()"
   ]
  },
  {
   "cell_type": "code",
   "execution_count": null,
   "id": "f9d2b1d9",
   "metadata": {},
   "outputs": [],
   "source": [
    "# Plotting the count of parents and non-parents\n",
    "plt.figure(figsize=(10,8))\n",
    "sns.countplot(\"PARENT\",data=df)"
   ]
  },
  {
   "cell_type": "code",
   "execution_count": null,
   "id": "f5b95d18",
   "metadata": {},
   "outputs": [],
   "source": [
    "# Plotting mobile app user and non mobile app user count\n",
    "plt.figure(figsize=(10,8))\n",
    "sns.countplot(\"MOBILE_APP_USER\",data=df)"
   ]
  },
  {
   "cell_type": "code",
   "execution_count": null,
   "id": "705c2dcc",
   "metadata": {},
   "outputs": [],
   "source": [
    "# Plotting correlation amoung features\n",
    "plt.figure(figsize=(10,8))\n",
    "sns.heatmap(df.corr(), cmap = \"viridis\")"
   ]
  },
  {
   "cell_type": "code",
   "execution_count": null,
   "id": "f1ffe1e4",
   "metadata": {},
   "outputs": [],
   "source": [
    "categorical_features = ['REGION', 'PARENT', 'OCCUPATION',\n",
    "       'MOBILE_APP_USER', 'CARD_COLOUR']"
   ]
  },
  {
   "cell_type": "code",
   "execution_count": null,
   "id": "bbdd8cc7",
   "metadata": {},
   "outputs": [],
   "source": [
    "# plot a boxplot for the label by each categorical feature\n",
    "for col in categorical_features:\n",
    "    fig = plt.figure(figsize=(9, 6))\n",
    "    ax = fig.gca()\n",
    "    df.boxplot(column = 'SPEND_M3_TOTAL', by = col, ax = ax)\n",
    "    ax.set_title('Label by ' + col)\n",
    "    ax.set_ylabel(\"Spend\")\n",
    "plt.show()"
   ]
  },
  {
   "cell_type": "code",
   "execution_count": null,
   "id": "40057ec6",
   "metadata": {},
   "outputs": [],
   "source": [
    "# checking for null values\n",
    "df[df.isnull().any(axis=1)]"
   ]
  },
  {
   "cell_type": "code",
   "execution_count": null,
   "id": "d4a28a27",
   "metadata": {},
   "outputs": [],
   "source": [
    "# data size before dropping null values\n",
    "before_rows = df.shape[0]\n",
    "print(before_rows)"
   ]
  },
  {
   "cell_type": "code",
   "execution_count": null,
   "id": "b7503db4",
   "metadata": {},
   "outputs": [],
   "source": [
    "# dropping null values\n",
    "df = df.dropna()"
   ]
  },
  {
   "cell_type": "code",
   "execution_count": null,
   "id": "ab619ac2",
   "metadata": {},
   "outputs": [],
   "source": [
    "# data size after dropping null values\n",
    "after_rows = df.shape[0]\n",
    "print(after_rows)"
   ]
  },
  {
   "cell_type": "code",
   "execution_count": null,
   "id": "efcc89ad",
   "metadata": {},
   "outputs": [],
   "source": [
    "# Number of rows that were dropped\n",
    "before_rows - after_rows"
   ]
  },
  {
   "cell_type": "code",
   "execution_count": null,
   "id": "b484f5d8",
   "metadata": {},
   "outputs": [],
   "source": [
    "# Checking column headers\n",
    "df.columns"
   ]
  },
  {
   "cell_type": "markdown",
   "id": "a707cc07",
   "metadata": {},
   "source": [
    "## Declearing Reggression Featurers"
   ]
  },
  {
   "cell_type": "code",
   "execution_count": null,
   "id": "871aec45",
   "metadata": {},
   "outputs": [],
   "source": [
    "features = ['AGE', 'PARENT','MOBILE_APP_USER', 'CREDIT_LIMIT', 'SPEND_M1_TRAVEL',\n",
    "       'SPEND_M1_GROCERY', 'SPEND_M1_OTHER', 'SPEND_M2_TRAVEL',\n",
    "       'SPEND_M2_GROCERY', 'SPEND_M2_OTHER',]"
   ]
  },
  {
   "cell_type": "markdown",
   "id": "abb3b82a",
   "metadata": {},
   "source": [
    "## Specifying Pretiction Target"
   ]
  },
  {
   "cell_type": "code",
   "execution_count": null,
   "id": "af7b6d84",
   "metadata": {},
   "outputs": [],
   "source": [
    "target = ['SPEND_M3_TOTAL']"
   ]
  },
  {
   "cell_type": "markdown",
   "id": "a8e0be87",
   "metadata": {},
   "source": [
    "## Extract Features and Target ('SPEND_M3_TOTAL') Values into Separate Dataframes\n"
   ]
  },
  {
   "cell_type": "code",
   "execution_count": null,
   "id": "acd91800",
   "metadata": {},
   "outputs": [],
   "source": [
    "X = df[features]"
   ]
  },
  {
   "cell_type": "code",
   "execution_count": null,
   "id": "fa65ebeb",
   "metadata": {},
   "outputs": [],
   "source": [
    "y = df[target]"
   ]
  },
  {
   "cell_type": "code",
   "execution_count": null,
   "id": "e7e17921",
   "metadata": {},
   "outputs": [],
   "source": [
    "# looking at a typical row from X\n",
    "X.iloc[2]"
   ]
  },
  {
   "cell_type": "code",
   "execution_count": null,
   "id": "57758ab8",
   "metadata": {},
   "outputs": [],
   "source": [
    "# displaying targets for y\n",
    "y"
   ]
  },
  {
   "cell_type": "code",
   "execution_count": null,
   "id": "a39fde0e",
   "metadata": {},
   "outputs": [],
   "source": [
    "# Splitting data into training set and test test set\n",
    "X_train, X_test, y_train, y_test = train_test_split(X, y, test_size=0.2, random_state=324)"
   ]
  },
  {
   "cell_type": "markdown",
   "id": "848878ca",
   "metadata": {},
   "source": [
    "## Fitting Linear Regression Model into Training set"
   ]
  },
  {
   "cell_type": "code",
   "execution_count": null,
   "id": "12473b40",
   "metadata": {},
   "outputs": [],
   "source": [
    "regressor = LinearRegression()\n",
    "regressor.fit(X_train, y_train)"
   ]
  },
  {
   "cell_type": "code",
   "execution_count": null,
   "id": "3340138b",
   "metadata": {},
   "outputs": [],
   "source": [
    "# Performing regression using linear regression model\n",
    "y_prediction = regressor.predict(X_test)\n",
    "y_prediction"
   ]
  },
  {
   "cell_type": "code",
   "execution_count": null,
   "id": "929580a2",
   "metadata": {},
   "outputs": [],
   "source": [
    "# Evaluating Linear Regression Accuracy using Root Mean Square Error\n",
    "RMSE = sqrt(mean_squared_error(y_true = y_test, y_pred = y_prediction))"
   ]
  },
  {
   "cell_type": "code",
   "execution_count": null,
   "id": "02b55d8a",
   "metadata": {},
   "outputs": [],
   "source": [
    "print(RMSE)"
   ]
  },
  {
   "cell_type": "code",
   "execution_count": null,
   "id": "662e627d",
   "metadata": {},
   "outputs": [],
   "source": [
    "import sklearn\n",
    "sklearn.metrics.r2_score(y_test, y_prediction)"
   ]
  },
  {
   "cell_type": "code",
   "execution_count": null,
   "id": "bf3d7013",
   "metadata": {},
   "outputs": [],
   "source": [
    "# getting feature importance\n",
    "importance = regressor.coef_.flatten()"
   ]
  },
  {
   "cell_type": "code",
   "execution_count": null,
   "id": "66daec5b",
   "metadata": {},
   "outputs": [],
   "source": [
    "importance"
   ]
  },
  {
   "cell_type": "code",
   "execution_count": null,
   "id": "7a22eb4d",
   "metadata": {},
   "outputs": [],
   "source": [
    "X.columns"
   ]
  },
  {
   "cell_type": "code",
   "execution_count": null,
   "id": "9119b459",
   "metadata": {},
   "outputs": [],
   "source": [
    "# Plotting feature importance of Linear regression\n",
    "feature_names = X.columns\n",
    "\n",
    "plt.figure(figsize=(12, 8))\n",
    "sns.barplot(x=importance, y=feature_names)\n",
    "plt.title(\"Linear Regression Feature Importance\")\n",
    "plt.xlabel(\"Feature Coefficient\")\n",
    "plt.ylabel(\"feature_names\")\n",
    "plt.show()"
   ]
  },
  {
   "cell_type": "markdown",
   "id": "6efe7956",
   "metadata": {},
   "source": [
    "## Using decision tree regressor to make predictions"
   ]
  },
  {
   "cell_type": "code",
   "execution_count": null,
   "id": "700a5c71",
   "metadata": {},
   "outputs": [],
   "source": [
    "# Fitting model to the traing set\n",
    "tree = DecisionTreeRegressor(max_depth=20)\n",
    "tree.fit(X_train, y_train)"
   ]
  },
  {
   "cell_type": "code",
   "execution_count": null,
   "id": "91826b59",
   "metadata": {},
   "outputs": [],
   "source": [
    "# Performing regresstion using model\n",
    "z_prediction = tree.predict(X_test)\n",
    "z_prediction"
   ]
  },
  {
   "cell_type": "code",
   "execution_count": null,
   "id": "08306cc2",
   "metadata": {},
   "outputs": [],
   "source": [
    "# feature importance for decition tree regressor \n",
    "tree.feature_importances_.flatten()"
   ]
  },
  {
   "cell_type": "code",
   "execution_count": null,
   "id": "35a2c1ac",
   "metadata": {},
   "outputs": [],
   "source": [
    "#Checking root mean square\n",
    "RMSE = sqrt(mean_squared_error(y_true = y_test, y_pred = z_prediction))"
   ]
  },
  {
   "cell_type": "code",
   "execution_count": null,
   "id": "c55c9bf3",
   "metadata": {},
   "outputs": [],
   "source": [
    "print(RMSE)"
   ]
  },
  {
   "cell_type": "code",
   "execution_count": null,
   "id": "5e33ea16",
   "metadata": {},
   "outputs": [],
   "source": [
    "sklearn.metrics.r2_score(y_test, z_prediction)"
   ]
  },
  {
   "cell_type": "markdown",
   "id": "6067cc17",
   "metadata": {},
   "source": [
    "# Using Pipeline and OneHotEncoder to Preprocess Categorical Data before Prediction"
   ]
  },
  {
   "cell_type": "code",
   "execution_count": null,
   "id": "3caef56d",
   "metadata": {},
   "outputs": [],
   "source": [
    "features = ['REGION','AGE', 'OCCUPATION', 'CARD_COLOUR', 'PARENT','MOBILE_APP_USER', \n",
    "        'CREDIT_LIMIT', 'SPEND_M1_TRAVEL',\n",
    "       'SPEND_M1_GROCERY', 'SPEND_M1_OTHER', 'SPEND_M2_TRAVEL',\n",
    "       'SPEND_M2_GROCERY', 'SPEND_M2_OTHER']\n",
    "X = df[features]"
   ]
  },
  {
   "cell_type": "code",
   "execution_count": null,
   "id": "aadd32c9",
   "metadata": {},
   "outputs": [],
   "source": [
    "target = ['SPEND_M3_TOTAL']\n",
    "y = df[target]"
   ]
  },
  {
   "cell_type": "code",
   "execution_count": null,
   "id": "1c68a7ee",
   "metadata": {},
   "outputs": [],
   "source": [
    "# Splitting data into training set and test test set\n",
    "X_train, X_test, y_train, y_test = train_test_split(X, y, test_size=0.2, random_state=324)"
   ]
  },
  {
   "cell_type": "code",
   "execution_count": null,
   "id": "76d2b6ce",
   "metadata": {},
   "outputs": [],
   "source": [
    "categorical_features = ['REGION', 'PARENT', 'OCCUPATION',\n",
    "       'MOBILE_APP_USER', 'CARD_COLOUR']\n",
    "numeric_features = ['AGE','CREDIT_LIMIT','SPEND_M1_TRAVEL',\n",
    "                    'SPEND_M1_GROCERY', 'SPEND_M1_OTHER', \n",
    "                    'SPEND_M2_TRAVEL','SPEND_M2_GROCERY', 'SPEND_M2_OTHER']"
   ]
  },
  {
   "cell_type": "code",
   "execution_count": null,
   "id": "459dcfdd",
   "metadata": {},
   "outputs": [],
   "source": [
    "from sklearn.ensemble import GradientBoostingRegressor\n",
    "# Define preprocessing for numeric columns (scale them)\n",
    "#numeric_features = [6,7,8,9]\n",
    "numeric_transformer = Pipeline(steps=[\n",
    "    ('scaler', StandardScaler())])\n",
    "\n",
    "# Define preprocessing for categorical features (encode them)\n",
    "#categorical_features = [0,1,2,3,4,5]\n",
    "categorical_transformer = Pipeline(steps=[\n",
    "    ('onehot', OneHotEncoder(handle_unknown='ignore'))])\n",
    "\n",
    "# Combine preprocessing steps\n",
    "preprocessor = ColumnTransformer(\n",
    "    transformers=[\n",
    "        ('num', numeric_transformer, numeric_features),\n",
    "        ('cat', categorical_transformer, categorical_features)])\n",
    "\n",
    "# Create preprocessing and training pipeline\n",
    "pipeline1 = Pipeline(steps=[('preprocessor', preprocessor),\n",
    "                           ('regressor', GradientBoostingRegressor())])\n",
    "\n",
    "# Create preprocessing and training pipeline\n",
    "pipeline2 = Pipeline(steps=[('preprocessor', preprocessor),\n",
    "                           ('regressor', DecisionTreeRegressor(max_depth=20))])\n",
    "\n",
    "# Create preprocessing and training pipeline\n",
    "pipeline3 = Pipeline(steps=[('preprocessor', preprocessor),\n",
    "                           ('regressor', LinearRegression())])\n",
    "\n",
    "\n",
    "# fit the pipeline to train a linear regression model on the training set\n",
    "model1 = pipeline1.fit(X_train, (y_train))\n",
    "print (model1) \n",
    "\n",
    "model2 = pipeline2.fit(X_train, (y_train))\n",
    "print (model2) \n",
    "\n",
    "model3 = pipeline3.fit(X_train, (y_train))\n",
    "print (model3) "
   ]
  },
  {
   "cell_type": "code",
   "execution_count": null,
   "id": "92e37aa6",
   "metadata": {},
   "outputs": [],
   "source": [
    "# Get predictions for GradientBoostingRegressor\n",
    "predictions1 = model1.predict(X_test)\n",
    "\n",
    "print('Moedel: GradientBoostingRegressor')\n",
    "# Display Evaluation metrics\n",
    "mse1 = mean_squared_error(y_test, predictions1)\n",
    "print(\"MSE:\", mse1)\n",
    "rmse1 = np.sqrt(mse1)\n",
    "print(\"RMSE:\", rmse1)\n",
    "Fr2 = r2_score(y_test, predictions1)\n",
    "print(\"R2:\", Fr2)"
   ]
  },
  {
   "cell_type": "code",
   "execution_count": null,
   "id": "abab6cf3",
   "metadata": {},
   "outputs": [],
   "source": [
    "# Get predictions for DecisionTreeRegressor\n",
    "predictions2 = model2.predict(X_test)\n",
    "\n",
    "print('Model: DecisionTreeRegressor')\n",
    "# Display Evaluation metrics\n",
    "mse2 = mean_squared_error(y_test, predictions2)\n",
    "print(\"MSE:\", mse2)\n",
    "rmse2 = np.sqrt(mse2)\n",
    "print(\"RMSE:\", rmse2)\n",
    "Sr2 = r2_score(y_test, predictions2)\n",
    "print(\"R2:\", Sr2)"
   ]
  },
  {
   "cell_type": "code",
   "execution_count": null,
   "id": "d719c73c",
   "metadata": {},
   "outputs": [],
   "source": [
    "# Get predictions for Linear regression\n",
    "predictions3 = model3.predict(X_test)\n",
    "\n",
    "print('Model: Linear regression')\n",
    "# Display Evaluation metrics\n",
    "mse3 = mean_squared_error(y_test, predictions3)\n",
    "print(\"MSE:\", mse3)\n",
    "rmse3 = np.sqrt(mse3)\n",
    "print(\"RMSE:\", rmse3)\n",
    "Tr2 = r2_score(y_test, predictions3)\n",
    "print(\"R2:\", Tr2)"
   ]
  },
  {
   "cell_type": "code",
   "execution_count": null,
   "id": "7e6942d3",
   "metadata": {},
   "outputs": [],
   "source": [
    "features = ['REGION','AGE', 'OCCUPATION', 'CARD_COLOUR', 'PARENT','MOBILE_APP_USER', \n",
    "        'CREDIT_LIMIT', 'SPEND_M1_TRAVEL',\n",
    "       'SPEND_M1_GROCERY', 'SPEND_M1_OTHER', 'SPEND_M2_TRAVEL',\n",
    "       'SPEND_M2_GROCERY', 'SPEND_M2_OTHER']\n",
    "X = df[features]"
   ]
  },
  {
   "cell_type": "code",
   "execution_count": null,
   "id": "905d2d32",
   "metadata": {},
   "outputs": [],
   "source": []
  }
 ],
 "metadata": {
  "kernelspec": {
   "display_name": "Python 3 (ipykernel)",
   "language": "python",
   "name": "python3"
  },
  "language_info": {
   "codemirror_mode": {
    "name": "ipython",
    "version": 3
   },
   "file_extension": ".py",
   "mimetype": "text/x-python",
   "name": "python",
   "nbconvert_exporter": "python",
   "pygments_lexer": "ipython3",
   "version": "3.9.12"
  }
 },
 "nbformat": 4,
 "nbformat_minor": 5
}
